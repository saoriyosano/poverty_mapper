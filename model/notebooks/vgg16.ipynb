{
 "cells": [
  {
   "cell_type": "code",
   "execution_count": 29,
   "metadata": {},
   "outputs": [
    {
     "name": "stdout",
     "output_type": "stream",
     "text": [
      "/home/jupyter/africa_poverty_clean\n",
      "The autoreload extension is already loaded. To reload it, use:\n",
      "  %reload_ext autoreload\n"
     ]
    }
   ],
   "source": [
    "%cd ~/africa_poverty_clean\n",
    "%load_ext autoreload\n",
    "%autoreload 2\n",
    "%matplotlib inline"
   ]
  },
  {
   "cell_type": "code",
   "execution_count": 30,
   "metadata": {},
   "outputs": [],
   "source": [
    "import tensorflow as tf\n",
    "import pandas as pd\n",
    "import numpy as np\n",
    "import os\n",
    "from glob import glob\n",
    "from batchers import dataset_constants, tfrecord_paths_utils\n",
    "from models import processing\n",
    "#from models.loss_utils import r2_metric\n",
    "import datetime"
   ]
  },
  {
   "cell_type": "markdown",
   "metadata": {},
   "source": [
    "### Constants"
   ]
  },
  {
   "cell_type": "code",
   "execution_count": 31,
   "metadata": {},
   "outputs": [],
   "source": [
    "DHS_TFRECORDS_PATH_ROOT = 'data/dhs_tfrecords/' # CHANGE\n",
    "CSV_PATH = 'data/dhs_clusters.csv' # CHANGE\n",
    "CLUSTERS_DF = pd.read_csv(CSV_PATH, float_precision='high', index_col=False)\n",
    "IR_BANDS = ['NIR', 'SWIR1', 'SWIR2']\n",
    "RGB_BANDS = ['RED', 'GREEN', 'BLUE']\n",
    "MEANS = dataset_constants._MEANS_DHS\n",
    "STDS = dataset_constants._STD_DEVS_DHS\n",
    "BATCH_SIZE = 64\n",
    "DATASET = \"DHS_OOC_A\"\n",
    "SHUFFLE = 50\n",
    "PREFETCH = 2\n",
    "EPOCHS = 5 # CHANGE\n",
    "CHECKPOINT_PATH = 'models/checkpoints' # CHANGE"
   ]
  },
  {
   "cell_type": "code",
   "execution_count": 38,
   "metadata": {},
   "outputs": [],
   "source": [
    "def process_datasets(dataset, shuffle, batch_size, prefetch):\n",
    "    \n",
    "    # for testing - comment out\n",
    "    #tfrecord_paths = []\n",
    "    #for country, year in dataset: # SY: added this for testing\n",
    "    #    country_year = f\"{country}_{year}\"\n",
    "    #    glob_path = os.path.join(\n",
    "    #        DHS_TFRECORDS_PATH_ROOT, country_year + '*', '*.tfrecord.gz')\n",
    "    #    tfrecord_paths += glob(glob_path)\n",
    "    #tfrecord_paths = np.sort(tfrecord_paths)\n",
    "\n",
    "    # for testing - comment out\n",
    "    #train_tfrecord_paths = tfrecord_paths[:3]\n",
    "    #val_tfrecord_paths = tfrecord_paths[3:6]\n",
    "    #test_tfrecord_paths = tfrecord_paths[:3]\n",
    "    #print(train_tfrecord_paths, val_tfrecord_paths, test_tfrecord_paths)\n",
    "    \n",
    "    tfrecord_path = DHS_TFRECORDS_PATH_ROOT\n",
    "    #feature_map = get_first_feature_map(tfrecord_path)\n",
    "    #feature_types = get_feature_types(feature_map)\n",
    "    \n",
    "    train_tfrecord_paths = tfrecord_paths_utils.dhs_ooc(dataset, split=\"train\")\n",
    "    val_tfrecord_paths = tfrecord_paths_utils.dhs_ooc(dataset, split=\"val\")\n",
    "    test_tfrecord_paths = tfrecord_paths_utils.dhs_ooc(dataset, split=\"test\")\n",
    "    \n",
    "#     train_tfrecord_paths = train_tfrecord_paths[:100]\n",
    "#     val_tfrecord_paths = val_tfrecord_paths[100:200]\n",
    "#     test_tfrecord_paths = test_tfrecord_paths[:3]\n",
    "\n",
    "    print(len(train_tfrecord_paths), len(val_tfrecord_paths), len(test_tfrecord_paths))\n",
    "\n",
    "    train_ds = tf.data.TFRecordDataset(train_tfrecord_paths, compression_type=\"GZIP\")\n",
    "    val_ds = tf.data.TFRecordDataset(val_tfrecord_paths, compression_type=\"GZIP\")\n",
    "    test_ds = tf.data.TFRecordDataset(test_tfrecord_paths, compression_type=\"GZIP\")\n",
    "\n",
    "    # normalize and resize\n",
    "    train_ds = train_ds.map(processing.process_tfrecords)\n",
    "    val_ds = val_ds.map(processing.process_tfrecords)  \n",
    "    test_ds = test_ds.map(processing.process_tfrecords)\n",
    "\n",
    "    # train_ds = train_ds.map(processing.augment)\n",
    "    # val_ds = val_ds.map(processing.augment)  \n",
    "    # test_ds = test_ds.map(processing.augment)\n",
    "\n",
    "    train_ds = train_ds.cache()\n",
    "    train_ds = train_ds.shuffle(shuffle)\n",
    "    train_ds = train_ds.batch(batch_size)\n",
    "    train_ds = train_ds.prefetch(prefetch)\n",
    "\n",
    "    val_ds = val_ds.cache()\n",
    "    val_ds = val_ds.shuffle(shuffle)\n",
    "    val_ds = val_ds.batch(batch_size)\n",
    "    val_ds = val_ds.prefetch(prefetch)\n",
    "\n",
    "    test_ds = test_ds.cache()\n",
    "    test_ds = test_ds.shuffle(shuffle)\n",
    "    test_ds = test_ds.batch(batch_size)\n",
    "    test_ds = test_ds.prefetch(prefetch)\n",
    "\n",
    "    return train_ds, val_ds, test_ds"
   ]
  },
  {
   "cell_type": "code",
   "execution_count": 57,
   "metadata": {},
   "outputs": [],
   "source": [
    "def vgg16_model_train_val(train_ds, val_ds, epochs, checkpoint_path):\n",
    "    checkpoint_path = checkpoint_path\n",
    "\n",
    "    input_tensor = tf.keras.Input(shape=(224, 224, 3), name = 'images')\n",
    "    vgg16_model = tf.keras.applications.vgg16.VGG16(include_top = False, input_tensor = input_tensor)    \n",
    "    x = vgg16_model.output\n",
    "    x = tf.keras.layers.Flatten()(x)\n",
    "    x = tf.keras.layers.Dense(256, activation='relu')(x)\n",
    "    predictions = tf.keras.layers.Dense(1, activation='linear')(x)\n",
    "    model = tf.keras.Model(inputs=vgg16_model.input, outputs=predictions)\n",
    "    model.compile(loss='mse', optimizer='adam', metrics=['mse', 'mae'])\n",
    "    \n",
    "    file_path = os.path.join(checkpoint_path, f\"{datetime.datetime.now().strftime('%Y%m%d-%H%M%S')}.hdf5\")\n",
    "    cp_callback = tf.keras.callbacks.ModelCheckpoint(\n",
    "        file_path,\n",
    "        monitor = 'val_loss',\n",
    "        verbose = 2,\n",
    "        save_best_only = False,\n",
    "        save_freq = 30,\n",
    "    )\n",
    "    hist = model.fit(\n",
    "        train_ds, epochs=epochs, validation_data=val_ds,\n",
    "        callbacks=[cp_callback], verbose=2)\n",
    "    \n",
    "    # save the model\n",
    "    trained_model = hist.model\n",
    "    now = datetime.datetime.now()\n",
    "    date_time = now.strftime(\"%Y%m%d-%H%M%S\")\n",
    "    model_name = f\"{checkpoint_path}/model-{date_time}.h5\"\n",
    "    trained_model.save(model_name)\n",
    "\n",
    "    return trained_model, hist.history, hist.params"
   ]
  },
  {
   "cell_type": "code",
   "execution_count": 45,
   "metadata": {},
   "outputs": [],
   "source": [
    "# evaluate function to be implemented TODO\n",
    "# def vgg16_test(test_ds, checkpoint_path, batch_size):\n",
    "#     trained_model = model.load_weights(checkpoint_path)\n",
    "#     trained_model.evaluate()"
   ]
  },
  {
   "cell_type": "code",
   "execution_count": 41,
   "metadata": {},
   "outputs": [
    {
     "name": "stdout",
     "output_type": "stream",
     "text": [
      "11797 3909 3963\n",
      "Tensor(\"stack_1:0\", shape=(224, 224, 3), dtype=float32) (224, 224, 3)\n",
      "Tensor(\"stack_1:0\", shape=(224, 224, 3), dtype=float32) (224, 224, 3)\n",
      "Tensor(\"stack_1:0\", shape=(224, 224, 3), dtype=float32) (224, 224, 3)\n"
     ]
    }
   ],
   "source": [
    "train_ds, val_ds, test_ds = process_datasets(DATASET, SHUFFLE, BATCH_SIZE, PREFETCH)"
   ]
  },
  {
   "cell_type": "code",
   "execution_count": 42,
   "metadata": {},
   "outputs": [
    {
     "data": {
      "text/plain": [
       "<DatasetV1Adapter shapes: {images: (?, 224, 224, 3), y: (?,)}, types: {images: tf.float32, y: tf.float32}>"
      ]
     },
     "execution_count": 42,
     "metadata": {},
     "output_type": "execute_result"
    }
   ],
   "source": [
    "train_ds"
   ]
  },
  {
   "cell_type": "code",
   "execution_count": 58,
   "metadata": {},
   "outputs": [
    {
     "name": "stdout",
     "output_type": "stream",
     "text": [
      "Train on None steps\n",
      "Epoch 1/5\n"
     ]
    },
    {
     "name": "stderr",
     "output_type": "stream",
     "text": [
      "2023-03-04 12:05:57.062942: I tensorflow/core/kernels/data/shuffle_dataset_op.cc:145] Filling up shuffle buffer (this may take a while): 28 of 50\n",
      "2023-03-04 12:06:02.674871: I tensorflow/core/kernels/data/shuffle_dataset_op.cc:195] Shuffle buffer filled.\n"
     ]
    },
    {
     "name": "stdout",
     "output_type": "stream",
     "text": [
      "\n",
      "Epoch 00001: saving model to models/checkpoints/20230304-120542.hdf5\n",
      "\n",
      "Epoch 00001: saving model to models/checkpoints/20230304-120542.hdf5\n",
      "\n",
      "Epoch 00001: saving model to models/checkpoints/20230304-120542.hdf5\n",
      "\n",
      "Epoch 00001: saving model to models/checkpoints/20230304-120542.hdf5\n",
      "\n",
      "Epoch 00001: saving model to models/checkpoints/20230304-120542.hdf5\n",
      "\n",
      "Epoch 00001: saving model to models/checkpoints/20230304-120542.hdf5\n"
     ]
    },
    {
     "ename": "ValueError",
     "evalue": "When using data tensors as input to a model, you should specify the `steps_per_epoch` argument.",
     "output_type": "error",
     "traceback": [
      "\u001b[0;31m---------------------------------------------------------------------------\u001b[0m",
      "\u001b[0;31mValueError\u001b[0m                                Traceback (most recent call last)",
      "\u001b[0;32m/tmp/ipykernel_2046/2917497811.py\u001b[0m in \u001b[0;36m<module>\u001b[0;34m\u001b[0m\n\u001b[0;32m----> 1\u001b[0;31m \u001b[0mtrained_model\u001b[0m\u001b[0;34m,\u001b[0m \u001b[0mperf\u001b[0m\u001b[0;34m,\u001b[0m \u001b[0mparams\u001b[0m \u001b[0;34m=\u001b[0m \u001b[0mvgg16_model_train_val\u001b[0m\u001b[0;34m(\u001b[0m\u001b[0mtrain_ds\u001b[0m\u001b[0;34m,\u001b[0m \u001b[0mval_ds\u001b[0m\u001b[0;34m,\u001b[0m \u001b[0mEPOCHS\u001b[0m\u001b[0;34m,\u001b[0m \u001b[0mCHECKPOINT_PATH\u001b[0m\u001b[0;34m)\u001b[0m\u001b[0;34m\u001b[0m\u001b[0;34m\u001b[0m\u001b[0m\n\u001b[0m",
      "\u001b[0;32m/tmp/ipykernel_2046/3928096980.py\u001b[0m in \u001b[0;36mvgg16_model_train_val\u001b[0;34m(train_ds, val_ds, epochs, checkpoint_path)\u001b[0m\n\u001b[1;32m     21\u001b[0m     hist = model.fit(\n\u001b[1;32m     22\u001b[0m         \u001b[0mtrain_ds\u001b[0m\u001b[0;34m,\u001b[0m \u001b[0mepochs\u001b[0m\u001b[0;34m=\u001b[0m\u001b[0mepochs\u001b[0m\u001b[0;34m,\u001b[0m \u001b[0mvalidation_data\u001b[0m\u001b[0;34m=\u001b[0m\u001b[0mval_ds\u001b[0m\u001b[0;34m,\u001b[0m\u001b[0;34m\u001b[0m\u001b[0;34m\u001b[0m\u001b[0m\n\u001b[0;32m---> 23\u001b[0;31m         callbacks=[cp_callback], verbose=2)\n\u001b[0m\u001b[1;32m     24\u001b[0m \u001b[0;34m\u001b[0m\u001b[0m\n\u001b[1;32m     25\u001b[0m     \u001b[0;31m# save the model\u001b[0m\u001b[0;34m\u001b[0m\u001b[0;34m\u001b[0m\u001b[0;34m\u001b[0m\u001b[0m\n",
      "\u001b[0;32m/opt/conda/lib/python3.7/site-packages/tensorflow_core/python/keras/engine/training.py\u001b[0m in \u001b[0;36mfit\u001b[0;34m(self, x, y, batch_size, epochs, verbose, callbacks, validation_split, validation_data, shuffle, class_weight, sample_weight, initial_epoch, steps_per_epoch, validation_steps, validation_freq, max_queue_size, workers, use_multiprocessing, **kwargs)\u001b[0m\n\u001b[1;32m    725\u001b[0m         \u001b[0mmax_queue_size\u001b[0m\u001b[0;34m=\u001b[0m\u001b[0mmax_queue_size\u001b[0m\u001b[0;34m,\u001b[0m\u001b[0;34m\u001b[0m\u001b[0;34m\u001b[0m\u001b[0m\n\u001b[1;32m    726\u001b[0m         \u001b[0mworkers\u001b[0m\u001b[0;34m=\u001b[0m\u001b[0mworkers\u001b[0m\u001b[0;34m,\u001b[0m\u001b[0;34m\u001b[0m\u001b[0;34m\u001b[0m\u001b[0m\n\u001b[0;32m--> 727\u001b[0;31m         use_multiprocessing=use_multiprocessing)\n\u001b[0m\u001b[1;32m    728\u001b[0m \u001b[0;34m\u001b[0m\u001b[0m\n\u001b[1;32m    729\u001b[0m   def evaluate(self,\n",
      "\u001b[0;32m/opt/conda/lib/python3.7/site-packages/tensorflow_core/python/keras/engine/training_arrays.py\u001b[0m in \u001b[0;36mfit\u001b[0;34m(self, model, x, y, batch_size, epochs, verbose, callbacks, validation_split, validation_data, shuffle, class_weight, sample_weight, initial_epoch, steps_per_epoch, validation_steps, validation_freq, **kwargs)\u001b[0m\n\u001b[1;32m    673\u001b[0m         \u001b[0mvalidation_steps\u001b[0m\u001b[0;34m=\u001b[0m\u001b[0mvalidation_steps\u001b[0m\u001b[0;34m,\u001b[0m\u001b[0;34m\u001b[0m\u001b[0;34m\u001b[0m\u001b[0m\n\u001b[1;32m    674\u001b[0m         \u001b[0mvalidation_freq\u001b[0m\u001b[0;34m=\u001b[0m\u001b[0mvalidation_freq\u001b[0m\u001b[0;34m,\u001b[0m\u001b[0;34m\u001b[0m\u001b[0;34m\u001b[0m\u001b[0m\n\u001b[0;32m--> 675\u001b[0;31m         steps_name='steps_per_epoch')\n\u001b[0m\u001b[1;32m    676\u001b[0m \u001b[0;34m\u001b[0m\u001b[0m\n\u001b[1;32m    677\u001b[0m   def evaluate(self,\n",
      "\u001b[0;32m/opt/conda/lib/python3.7/site-packages/tensorflow_core/python/keras/engine/training_arrays.py\u001b[0m in \u001b[0;36mmodel_iteration\u001b[0;34m(model, inputs, targets, sample_weights, batch_size, epochs, verbose, callbacks, val_inputs, val_targets, val_sample_weights, shuffle, initial_epoch, steps_per_epoch, validation_steps, validation_freq, mode, validation_in_fit, prepared_feed_values_from_dataset, steps_name, **kwargs)\u001b[0m\n\u001b[1;32m    438\u001b[0m           \u001b[0mvalidation_in_fit\u001b[0m\u001b[0;34m=\u001b[0m\u001b[0;32mTrue\u001b[0m\u001b[0;34m,\u001b[0m\u001b[0;34m\u001b[0m\u001b[0;34m\u001b[0m\u001b[0m\n\u001b[1;32m    439\u001b[0m           \u001b[0mprepared_feed_values_from_dataset\u001b[0m\u001b[0;34m=\u001b[0m\u001b[0;34m(\u001b[0m\u001b[0mval_iterator\u001b[0m \u001b[0;32mis\u001b[0m \u001b[0;32mnot\u001b[0m \u001b[0;32mNone\u001b[0m\u001b[0;34m)\u001b[0m\u001b[0;34m,\u001b[0m\u001b[0;34m\u001b[0m\u001b[0;34m\u001b[0m\u001b[0m\n\u001b[0;32m--> 440\u001b[0;31m           steps_name='validation_steps')\n\u001b[0m\u001b[1;32m    441\u001b[0m       \u001b[0;32mif\u001b[0m \u001b[0;32mnot\u001b[0m \u001b[0misinstance\u001b[0m\u001b[0;34m(\u001b[0m\u001b[0mval_results\u001b[0m\u001b[0;34m,\u001b[0m \u001b[0mlist\u001b[0m\u001b[0;34m)\u001b[0m\u001b[0;34m:\u001b[0m\u001b[0;34m\u001b[0m\u001b[0;34m\u001b[0m\u001b[0m\n\u001b[1;32m    442\u001b[0m         \u001b[0mval_results\u001b[0m \u001b[0;34m=\u001b[0m \u001b[0;34m[\u001b[0m\u001b[0mval_results\u001b[0m\u001b[0;34m]\u001b[0m\u001b[0;34m\u001b[0m\u001b[0;34m\u001b[0m\u001b[0m\n",
      "\u001b[0;32m/opt/conda/lib/python3.7/site-packages/tensorflow_core/python/keras/engine/training_arrays.py\u001b[0m in \u001b[0;36mmodel_iteration\u001b[0;34m(model, inputs, targets, sample_weights, batch_size, epochs, verbose, callbacks, val_inputs, val_targets, val_sample_weights, shuffle, initial_epoch, steps_per_epoch, validation_steps, validation_freq, mode, validation_in_fit, prepared_feed_values_from_dataset, steps_name, **kwargs)\u001b[0m\n\u001b[1;32m    174\u001b[0m   \u001b[0;32mif\u001b[0m \u001b[0;32mnot\u001b[0m \u001b[0mis_dataset\u001b[0m\u001b[0;34m:\u001b[0m\u001b[0;34m\u001b[0m\u001b[0;34m\u001b[0m\u001b[0m\n\u001b[1;32m    175\u001b[0m     num_samples_or_steps = _get_num_samples_or_steps(ins, batch_size,\n\u001b[0;32m--> 176\u001b[0;31m                                                      steps_per_epoch)\n\u001b[0m\u001b[1;32m    177\u001b[0m   \u001b[0;32melse\u001b[0m\u001b[0;34m:\u001b[0m\u001b[0;34m\u001b[0m\u001b[0;34m\u001b[0m\u001b[0m\n\u001b[1;32m    178\u001b[0m     \u001b[0mnum_samples_or_steps\u001b[0m \u001b[0;34m=\u001b[0m \u001b[0msteps_per_epoch\u001b[0m\u001b[0;34m\u001b[0m\u001b[0;34m\u001b[0m\u001b[0m\n",
      "\u001b[0;32m/opt/conda/lib/python3.7/site-packages/tensorflow_core/python/keras/engine/training_arrays.py\u001b[0m in \u001b[0;36m_get_num_samples_or_steps\u001b[0;34m(ins, batch_size, steps_per_epoch)\u001b[0m\n\u001b[1;32m    492\u001b[0m     \u001b[0;32mreturn\u001b[0m \u001b[0msteps_per_epoch\u001b[0m\u001b[0;34m\u001b[0m\u001b[0;34m\u001b[0m\u001b[0m\n\u001b[1;32m    493\u001b[0m   return training_utils.check_num_samples(ins, batch_size, steps_per_epoch,\n\u001b[0;32m--> 494\u001b[0;31m                                           'steps_per_epoch')\n\u001b[0m\u001b[1;32m    495\u001b[0m \u001b[0;34m\u001b[0m\u001b[0m\n\u001b[1;32m    496\u001b[0m \u001b[0;34m\u001b[0m\u001b[0m\n",
      "\u001b[0;32m/opt/conda/lib/python3.7/site-packages/tensorflow_core/python/keras/engine/training_utils.py\u001b[0m in \u001b[0;36mcheck_num_samples\u001b[0;34m(ins, batch_size, steps, steps_name)\u001b[0m\n\u001b[1;32m    420\u001b[0m     raise ValueError('If ' + steps_name +\n\u001b[1;32m    421\u001b[0m                      ' is set, the `batch_size` must be None.')\n\u001b[0;32m--> 422\u001b[0;31m   \u001b[0;32mif\u001b[0m \u001b[0mcheck_steps_argument\u001b[0m\u001b[0;34m(\u001b[0m\u001b[0mins\u001b[0m\u001b[0;34m,\u001b[0m \u001b[0msteps\u001b[0m\u001b[0;34m,\u001b[0m \u001b[0msteps_name\u001b[0m\u001b[0;34m)\u001b[0m\u001b[0;34m:\u001b[0m\u001b[0;34m\u001b[0m\u001b[0;34m\u001b[0m\u001b[0m\n\u001b[0m\u001b[1;32m    423\u001b[0m     \u001b[0;32mreturn\u001b[0m \u001b[0;32mNone\u001b[0m\u001b[0;34m\u001b[0m\u001b[0;34m\u001b[0m\u001b[0m\n\u001b[1;32m    424\u001b[0m \u001b[0;34m\u001b[0m\u001b[0m\n",
      "\u001b[0;32m/opt/conda/lib/python3.7/site-packages/tensorflow_core/python/keras/engine/training_utils.py\u001b[0m in \u001b[0;36mcheck_steps_argument\u001b[0;34m(input_data, steps, steps_name)\u001b[0m\n\u001b[1;32m   1197\u001b[0m       raise ValueError('When using {input_type} as input to a model, you should'\n\u001b[1;32m   1198\u001b[0m                        ' specify the `{steps_name}` argument.'.format(\n\u001b[0;32m-> 1199\u001b[0;31m                            input_type=input_type_str, steps_name=steps_name))\n\u001b[0m\u001b[1;32m   1200\u001b[0m     \u001b[0;32mreturn\u001b[0m \u001b[0;32mTrue\u001b[0m\u001b[0;34m\u001b[0m\u001b[0;34m\u001b[0m\u001b[0m\n\u001b[1;32m   1201\u001b[0m \u001b[0;34m\u001b[0m\u001b[0m\n",
      "\u001b[0;31mValueError\u001b[0m: When using data tensors as input to a model, you should specify the `steps_per_epoch` argument."
     ]
    }
   ],
   "source": [
    "trained_model, perf, params = vgg16_model_train_val(train_ds, val_ds, EPOCHS, CHECKPOINT_PATH)"
   ]
  },
  {
   "cell_type": "code",
   "execution_count": 23,
   "metadata": {},
   "outputs": [],
   "source": [
    "import pdb"
   ]
  },
  {
   "cell_type": "code",
   "execution_count": null,
   "metadata": {},
   "outputs": [],
   "source": [
    "def process_and_train(dataset, shuffle, batch_size, prefetch, bands, epochs, checkpoint_path):\n",
    "    img_bands = bands\n",
    "    #pdb.set_trace()\n",
    "    train_ds, val_ds, test_ds = process_datasets(dataset, shuffle, batch_size, prefetch)\n",
    "    #pdb.set_trace()\n",
    "    trained_model, perf, params = vgg16_model_train_val(train_ds, val_ds, epochs, checkpoint_path)\n",
    "    return trained_model, perf, params"
   ]
  },
  {
   "cell_type": "markdown",
   "metadata": {},
   "source": [
    "### VGG16 Model: Infrared"
   ]
  },
  {
   "cell_type": "code",
   "execution_count": null,
   "metadata": {},
   "outputs": [],
   "source": [
    "trained, perf, params = process_and_train(\n",
    "    dataset=DATASET, shuffle=SHUFFLE, batch_size=BATCH_SIZE, \n",
    "    prefetch=PREFETCH, bands=IR_BANDS, \n",
    "    epochs=EPOCHS, checkpoint_path=CHECKPOINT_PATH\n",
    "    )"
   ]
  },
  {
   "cell_type": "code",
   "execution_count": null,
   "metadata": {},
   "outputs": [],
   "source": [
    "input_tensor = tf.keras.Input(shape=(224, 224, 3), name = 'images')\n",
    "vgg16_model = tf.keras.applications.vgg16.VGG16(include_top = False, input_tensor = input_tensor)\n",
    "x = vgg16_model.output\n",
    "x = tf.keras.layers.Flatten()(x)\n",
    "x = tf.keras.layers.Dense(256, activation='relu')(x)\n",
    "predictions = tf.keras.layers.Dense(1, activation='linear')(x)\n",
    "model = tf.keras.Model(inputs=vgg16_model.input, outputs=predictions)\n",
    "model.compile(loss='mse', optimizer='adam', metrics=[\"mse\"])\n",
    "model.fit(train_ds, epochs=2, validation_data=val_ds)"
   ]
  },
  {
   "cell_type": "code",
   "execution_count": null,
   "metadata": {},
   "outputs": [],
   "source": []
  }
 ],
 "metadata": {
  "environment": {
   "kernel": "conda-root-py",
   "name": "common-cu100.m84",
   "type": "gcloud",
   "uri": "gcr.io/deeplearning-platform-release/base-cu100:m84"
  },
  "kernelspec": {
   "display_name": "Python [conda env:root] *",
   "language": "python",
   "name": "conda-root-py"
  },
  "language_info": {
   "codemirror_mode": {
    "name": "ipython",
    "version": 3
   },
   "file_extension": ".py",
   "mimetype": "text/x-python",
   "name": "python",
   "nbconvert_exporter": "python",
   "pygments_lexer": "ipython3",
   "version": "3.7.12"
  }
 },
 "nbformat": 4,
 "nbformat_minor": 4
}
